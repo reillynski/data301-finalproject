{
  "nbformat": 4,
  "nbformat_minor": 0,
  "metadata": {
    "colab": {
      "name": "DATA 301 Final Project - Machine Learning.ipynb",
      "provenance": []
    },
    "kernelspec": {
      "name": "python3",
      "display_name": "Python 3"
    }
  },
  "cells": [
    {
      "cell_type": "code",
      "metadata": {
        "id": "fQ0FxwiOVTz9",
        "colab_type": "code",
        "colab": {}
      },
      "source": [
        "import pandas as pd\n",
        "import numpy as np\n",
        "from sklearn.compose import make_column_transformer\n",
        "from sklearn.preprocessing import OneHotEncoder\n",
        "from sklearn.preprocessing import StandardScaler\n",
        "from sklearn.neighbors import KNeighborsRegressor\n",
        "from sklearn.linear_model import LinearRegression\n",
        "from sklearn.linear_model import Ridge\n",
        "from sklearn.ensemble import RandomForestRegressor\n",
        "from sklearn.pipeline import make_pipeline\n",
        "from sklearn.feature_extraction.text import TfidfVectorizer\n",
        "from sklearn.model_selection import cross_val_score\n",
        "from sklearn.preprocessing import LabelEncoder\n",
        "from sklearn.model_selection import GridSearchCV"
      ],
      "execution_count": 0,
      "outputs": []
    },
    {
      "cell_type": "code",
      "metadata": {
        "id": "EMkQgckaaFiG",
        "colab_type": "code",
        "outputId": "20bad93c-13aa-4687-e95b-531cfd8b89c6",
        "colab": {
          "base_uri": "https://localhost:8080/",
          "height": 581
        }
      },
      "source": [
        "df_music_train = pd.read_csv(\"https://raw.githubusercontent.com/reillynski/data301-finalproject/master/df_music.csv\", index_col=0)\n",
        "df_music_train.head()"
      ],
      "execution_count": 2,
      "outputs": [
        {
          "output_type": "execute_result",
          "data": {
            "text/html": [
              "<div>\n",
              "<style scoped>\n",
              "    .dataframe tbody tr th:only-of-type {\n",
              "        vertical-align: middle;\n",
              "    }\n",
              "\n",
              "    .dataframe tbody tr th {\n",
              "        vertical-align: top;\n",
              "    }\n",
              "\n",
              "    .dataframe thead th {\n",
              "        text-align: right;\n",
              "    }\n",
              "</style>\n",
              "<table border=\"1\" class=\"dataframe\">\n",
              "  <thead>\n",
              "    <tr style=\"text-align: right;\">\n",
              "      <th></th>\n",
              "      <th>name</th>\n",
              "      <th>type</th>\n",
              "      <th>promoter.name</th>\n",
              "      <th>info</th>\n",
              "      <th>pleaseNote</th>\n",
              "      <th>priceMin</th>\n",
              "      <th>priceMax</th>\n",
              "      <th>subGenre</th>\n",
              "      <th>city</th>\n",
              "      <th>state</th>\n",
              "      <th>venueName</th>\n",
              "      <th>attractionName</th>\n",
              "      <th>artists</th>\n",
              "      <th>num.artists</th>\n",
              "      <th>latitude</th>\n",
              "      <th>longitude</th>\n",
              "      <th>venueUpcoming</th>\n",
              "      <th>meanPrice</th>\n",
              "      <th>date</th>\n",
              "    </tr>\n",
              "  </thead>\n",
              "  <tbody>\n",
              "    <tr>\n",
              "      <th>0</th>\n",
              "      <td>Lit In Ac 2020 With Lil Kim, Fat Joe, Ja Rule,...</td>\n",
              "      <td>event</td>\n",
              "      <td>PROMOTED BY VENUE</td>\n",
              "      <td>NaN</td>\n",
              "      <td>NaN</td>\n",
              "      <td>52.0</td>\n",
              "      <td>92.0</td>\n",
              "      <td>French Rap</td>\n",
              "      <td>Atlantic City</td>\n",
              "      <td>New Jersey</td>\n",
              "      <td>Boardwalk Hall</td>\n",
              "      <td>Lil Kim</td>\n",
              "      <td>['Lil Kim', 'Fat Joe', 'Ja Rule', 'State Prope...</td>\n",
              "      <td>10</td>\n",
              "      <td>39.354905</td>\n",
              "      <td>-74.438391</td>\n",
              "      <td>15</td>\n",
              "      <td>72.0</td>\n",
              "      <td>2020-04-04</td>\n",
              "    </tr>\n",
              "    <tr>\n",
              "      <th>2</th>\n",
              "      <td>Yo Gotti, Da Baby, Kevin Gates, Kash Doll &amp; more</td>\n",
              "      <td>event</td>\n",
              "      <td>PROMOTED BY VENUE</td>\n",
              "      <td>NaN</td>\n",
              "      <td>Originally scheduled to take place Sunday, Mar...</td>\n",
              "      <td>54.0</td>\n",
              "      <td>154.0</td>\n",
              "      <td>French Rap</td>\n",
              "      <td>Detroit</td>\n",
              "      <td>Michigan</td>\n",
              "      <td>Little Caesars Arena</td>\n",
              "      <td>Yo Gotti</td>\n",
              "      <td>['Yo Gotti', 'Kash Doll', 'DaBaby', 'Kevin Gat...</td>\n",
              "      <td>7</td>\n",
              "      <td>42.341089</td>\n",
              "      <td>-83.055434</td>\n",
              "      <td>26</td>\n",
              "      <td>104.0</td>\n",
              "      <td>2020-05-20</td>\n",
              "    </tr>\n",
              "    <tr>\n",
              "      <th>3</th>\n",
              "      <td>Spring MegaFest</td>\n",
              "      <td>event</td>\n",
              "      <td>PROMOTED BY VENUE</td>\n",
              "      <td>NaN</td>\n",
              "      <td>NaN</td>\n",
              "      <td>53.0</td>\n",
              "      <td>179.0</td>\n",
              "      <td>French Rap</td>\n",
              "      <td>Indianapolis</td>\n",
              "      <td>Indiana</td>\n",
              "      <td>Bankers Life Fieldhouse</td>\n",
              "      <td>Lil Baby</td>\n",
              "      <td>['Lil Baby', '2 Chainz', 'Rod Wave', 'Jacquees...</td>\n",
              "      <td>5</td>\n",
              "      <td>39.764064</td>\n",
              "      <td>-86.155507</td>\n",
              "      <td>8</td>\n",
              "      <td>116.0</td>\n",
              "      <td>2020-04-10</td>\n",
              "    </tr>\n",
              "    <tr>\n",
              "      <th>4</th>\n",
              "      <td>No Limit Reunion Tour</td>\n",
              "      <td>event</td>\n",
              "      <td>PROMOTED BY VENUE</td>\n",
              "      <td>NaN</td>\n",
              "      <td>Artists subject to change. All sales are final...</td>\n",
              "      <td>55.0</td>\n",
              "      <td>195.0</td>\n",
              "      <td>French Rap</td>\n",
              "      <td>Atlanta</td>\n",
              "      <td>Georgia</td>\n",
              "      <td>State Farm Arena</td>\n",
              "      <td>Master P</td>\n",
              "      <td>['Master P', 'Mia X', 'Silkk the Shocker', 'My...</td>\n",
              "      <td>5</td>\n",
              "      <td>33.757796</td>\n",
              "      <td>-84.394569</td>\n",
              "      <td>21</td>\n",
              "      <td>125.0</td>\n",
              "      <td>2020-05-01</td>\n",
              "    </tr>\n",
              "    <tr>\n",
              "      <th>5</th>\n",
              "      <td>Feed The Streetz Tour 2020</td>\n",
              "      <td>event</td>\n",
              "      <td>PROMOTED BY VENUE</td>\n",
              "      <td>NaN</td>\n",
              "      <td>Lineup subject to change.</td>\n",
              "      <td>75.0</td>\n",
              "      <td>175.0</td>\n",
              "      <td>French Rap</td>\n",
              "      <td>Brooklyn</td>\n",
              "      <td>New York</td>\n",
              "      <td>Barclays Center</td>\n",
              "      <td>Rick Ross</td>\n",
              "      <td>['Rick Ross', 'Jeezy', '2 Chainz', 'Yo Gotti',...</td>\n",
              "      <td>9</td>\n",
              "      <td>40.683504</td>\n",
              "      <td>-73.976617</td>\n",
              "      <td>21</td>\n",
              "      <td>125.0</td>\n",
              "      <td>2020-05-15</td>\n",
              "    </tr>\n",
              "  </tbody>\n",
              "</table>\n",
              "</div>"
            ],
            "text/plain": [
              "                                                name  ...        date\n",
              "0  Lit In Ac 2020 With Lil Kim, Fat Joe, Ja Rule,...  ...  2020-04-04\n",
              "2   Yo Gotti, Da Baby, Kevin Gates, Kash Doll & more  ...  2020-05-20\n",
              "3                                    Spring MegaFest  ...  2020-04-10\n",
              "4                              No Limit Reunion Tour  ...  2020-05-01\n",
              "5                         Feed The Streetz Tour 2020  ...  2020-05-15\n",
              "\n",
              "[5 rows x 19 columns]"
            ]
          },
          "metadata": {
            "tags": []
          },
          "execution_count": 2
        }
      ]
    },
    {
      "cell_type": "code",
      "metadata": {
        "id": "bjE3yUikdP7p",
        "colab_type": "code",
        "colab": {}
      },
      "source": [
        "#adjust some columns to make it easier to use in ml model \n",
        "\n",
        "#fill/replace NaNs\n",
        "df_music_train[\"info\"] = df_music_train[\"info\"].fillna(\"\")\n",
        "df_music_train[\"pleaseNote\"] = df_music_train[\"pleaseNote\"].fillna(\"\")\n",
        "df_music_train[\"promoter.name\"] = df_music_train[\"promoter.name\"].fillna(\"None\")\n",
        "\n",
        "#create quantitative date column\n",
        "df_music_train[\"date_quant\"] = df_music_train[\"date\"].map(lambda x: int(x[5:7]) * 30 + int(x[8:10]))"
      ],
      "execution_count": 0,
      "outputs": []
    },
    {
      "cell_type": "markdown",
      "metadata": {
        "id": "i9p9VIfQguQx",
        "colab_type": "text"
      },
      "source": [
        "# priceMin Model"
      ]
    },
    {
      "cell_type": "markdown",
      "metadata": {
        "id": "XoEfytiLh2-S",
        "colab_type": "text"
      },
      "source": [
        "**Variable and Hyperparameter Testing**"
      ]
    },
    {
      "cell_type": "markdown",
      "metadata": {
        "id": "ERKn_-U015yr",
        "colab_type": "text"
      },
      "source": [
        "The following are a series of functions to assist in determining the best combination of features to include in a given model. "
      ]
    },
    {
      "cell_type": "code",
      "metadata": {
        "id": "ETfos6Eph0vE",
        "colab_type": "code",
        "colab": {}
      },
      "source": [
        "quantitative = [\"num.artists\", \"latitude\", \"longitude\", \"venueUpcoming\", \"date_quant\"]\n",
        "categorical = [\"promoter.name\", \"subGenre\", \"city\", \"state\", \"venueName\", \"attractionName\"]\n",
        "text = [\"name\", \"info\", \"pleaseNote\"]"
      ],
      "execution_count": 0,
      "outputs": []
    },
    {
      "cell_type": "code",
      "metadata": {
        "id": "dNPz9JETrbG9",
        "colab_type": "code",
        "colab": {}
      },
      "source": [
        "#create pipeline with combos of quantitative/categorical\n",
        "def create_pipeline(cat_vars, text_vars, model):\n",
        "  if len(text_vars) == 3:  \n",
        "    ct = make_column_transformer(\n",
        "          (TfidfVectorizer(max_features=50, norm=None), \"name\"), \n",
        "          (TfidfVectorizer(max_features=50, norm=None), \"info\"), \n",
        "          (TfidfVectorizer(max_features=50, norm=None), \"pleaseNote\"),\n",
        "          (OneHotEncoder(handle_unknown=\"ignore\"), cat_vars), \n",
        "          remainder=\"passthrough\"\n",
        "    )\n",
        "  elif len(text_vars) == 2: \n",
        "    ct = make_column_transformer(\n",
        "          (TfidfVectorizer(max_features=50, norm=None), text_vars[0]), \n",
        "          (TfidfVectorizer(max_features=50, norm=None), text_vars[1]), \n",
        "          (OneHotEncoder(handle_unknown=\"ignore\"), cat_vars), \n",
        "          remainder=\"passthrough\"\n",
        "    )\n",
        "  elif len(text_vars) == 1: \n",
        "    ct = make_column_transformer(\n",
        "          (TfidfVectorizer(max_features=50, norm=None), text_vars[0]), \n",
        "          (OneHotEncoder(handle_unknown=\"ignore\"), cat_vars), \n",
        "          remainder=\"passthrough\"\n",
        "    )\n",
        "\n",
        "  else: \n",
        "    ct = make_column_transformer(\n",
        "          (OneHotEncoder(handle_unknown=\"ignore\"), cat_vars), \n",
        "          remainder=\"passthrough\"\n",
        "    )\n",
        "\n",
        "  pipeline = make_pipeline(\n",
        "      ct, \n",
        "      StandardScaler(with_mean=False), \n",
        "      model\n",
        "  )\n",
        "\n",
        "  return pipeline "
      ],
      "execution_count": 0,
      "outputs": []
    },
    {
      "cell_type": "code",
      "metadata": {
        "id": "j5DRCrBO82qP",
        "colab_type": "code",
        "colab": {}
      },
      "source": [
        "#calculate cross-val error \n",
        "def calc_error(quant_features, cat_features, text_features, feature, model): \n",
        "  pipeline = create_pipeline(cat_features, text_features, model)\n",
        "\n",
        "  all_features = quant_features + cat_features + text_features\n",
        "  \n",
        "  errs = -cross_val_score(pipeline, X=df_music_train[all_features], \n",
        "                          y=df_music_train[feature],\n",
        "                          scoring=\"neg_mean_squared_error\", cv=10)\n",
        "  return np.sqrt(errs).mean()"
      ],
      "execution_count": 0,
      "outputs": []
    },
    {
      "cell_type": "code",
      "metadata": {
        "id": "zUzHzRe4w6lY",
        "colab_type": "code",
        "colab": {}
      },
      "source": [
        "#get error for different combinations of different types of variables \n",
        "def get_combo_errors(feature, model): \n",
        "  quant_temp = quantitative[:] \n",
        "  cat_temp = categorical[:]\n",
        "  text_temp = text[:]\n",
        "\n",
        "  qct_errs = pd.Series()\n",
        "  while len(quant_temp) > 0: \n",
        "    while len(cat_temp) > 0:\n",
        "      while len(text_temp) > 0: \n",
        "        full = [] \n",
        "        full = quant_temp + cat_temp + text_temp\n",
        "    \n",
        "        qct_errs[str(full)] = calc_error(quant_temp, cat_temp, text_temp, feature, model) \n",
        "        text_temp.pop()\n",
        "\n",
        "      text_temp = text[:]\n",
        "      full = [] \n",
        "      full = quant_temp + cat_temp + text_temp\n",
        "    \n",
        "      qct_errs[str(full)] = calc_error(quant_temp, cat_temp, text_temp, feature, model)\n",
        "      cat_temp.pop()\n",
        "  \n",
        "    cat_temp = categorical[:]\n",
        "    full = [] \n",
        "    full = quant_temp + cat_temp + text_temp\n",
        "    qct_errs[str(full)] = calc_error(quant_temp, cat_temp, text_temp, feature, model)\n",
        "    quant_temp.pop()\n",
        "\n",
        "  return qct_errs"
      ],
      "execution_count": 0,
      "outputs": []
    },
    {
      "cell_type": "markdown",
      "metadata": {
        "id": "bvlPOnxCwtlb",
        "colab_type": "text"
      },
      "source": [
        "K-Nearest Neighbors Regression"
      ]
    },
    {
      "cell_type": "code",
      "metadata": {
        "id": "2JL5FoOb97hl",
        "colab_type": "code",
        "outputId": "e16ec952-0614-44d0-d84e-0d9790d24205",
        "colab": {
          "base_uri": "https://localhost:8080/",
          "height": 241
        }
      },
      "source": [
        "knn_errs = get_combo_errors(\"priceMin\", KNeighborsRegressor(n_neighbors=10))\n",
        "knn_errs"
      ],
      "execution_count": 8,
      "outputs": [
        {
          "output_type": "execute_result",
          "data": {
            "text/plain": [
              "['num.artists', 'latitude', 'longitude', 'venueUpcoming', 'date_quant', 'promoter.name', 'subGenre', 'city', 'state', 'venueName', 'attractionName', 'name', 'info', 'pleaseNote']    14.815060\n",
              "['num.artists', 'latitude', 'longitude', 'venueUpcoming', 'date_quant', 'promoter.name', 'subGenre', 'city', 'state', 'venueName', 'attractionName', 'name', 'info']                  15.081498\n",
              "['num.artists', 'latitude', 'longitude', 'venueUpcoming', 'date_quant', 'promoter.name', 'subGenre', 'city', 'state', 'venueName', 'attractionName', 'name']                          14.847839\n",
              "['num.artists', 'latitude', 'longitude', 'venueUpcoming', 'date_quant', 'promoter.name', 'subGenre', 'city', 'state', 'venueName', 'name', 'info', 'pleaseNote']                      14.616319\n",
              "['num.artists', 'latitude', 'longitude', 'venueUpcoming', 'date_quant', 'promoter.name', 'subGenre', 'city', 'state', 'venueName', 'name', 'info']                                    14.597399\n",
              "                                                                                                                                                                                        ...    \n",
              "['num.artists', 'promoter.name', 'subGenre', 'name', 'info']                                                                                                                          14.694870\n",
              "['num.artists', 'promoter.name', 'subGenre', 'name']                                                                                                                                  14.680297\n",
              "['num.artists', 'promoter.name', 'name', 'info', 'pleaseNote']                                                                                                                        14.719772\n",
              "['num.artists', 'promoter.name', 'name', 'info']                                                                                                                                      14.736181\n",
              "['num.artists', 'promoter.name', 'name']                                                                                                                                              14.663878\n",
              "Length: 90, dtype: float64"
            ]
          },
          "metadata": {
            "tags": []
          },
          "execution_count": 8
        }
      ]
    },
    {
      "cell_type": "code",
      "metadata": {
        "id": "_wF8sp_2wed8",
        "colab_type": "code",
        "outputId": "857787b8-08f6-4e5b-e4b7-b921c32b05c1",
        "colab": {
          "base_uri": "https://localhost:8080/",
          "height": 34
        }
      },
      "source": [
        "knn_errs.idxmin()"
      ],
      "execution_count": 9,
      "outputs": [
        {
          "output_type": "execute_result",
          "data": {
            "text/plain": [
              "\"['num.artists', 'latitude', 'promoter.name', 'subGenre', 'city', 'state', 'venueName', 'name', 'info', 'pleaseNote']\""
            ]
          },
          "metadata": {
            "tags": []
          },
          "execution_count": 9
        }
      ]
    },
    {
      "cell_type": "code",
      "metadata": {
        "id": "LM4CnvDR0U2b",
        "colab_type": "code",
        "outputId": "e1044876-5c27-41e1-9d24-42c02a867fab",
        "colab": {
          "base_uri": "https://localhost:8080/",
          "height": 510
        }
      },
      "source": [
        "#find optimal value of k\n",
        "knn_best_vars = ['num.artists', 'latitude', 'promoter.name', 'subGenre', 'city', 'state', 'venueName', 'name', 'info', 'pleaseNote']\n",
        "\n",
        "knn_ct = make_column_transformer(\n",
        "    (TfidfVectorizer(max_features=50, norm=None), \"name\"), \n",
        "    (TfidfVectorizer(max_features=50, norm=None), \"info\"), \n",
        "    (TfidfVectorizer(max_features=50, norm=None), \"pleaseNote\"), \n",
        "    (OneHotEncoder(handle_unknown=\"ignore\"), [\"promoter.name\", \"subGenre\", \"city\", \"state\", \"venueName\"]), \n",
        "    remainder= \"passthrough\"\n",
        ")\n",
        "\n",
        "knn_pipeline = make_pipeline(\n",
        "    knn_ct, \n",
        "    StandardScaler(with_mean=False), \n",
        "    KNeighborsRegressor(n_neighbors=10)\n",
        ")\n",
        "clf = GridSearchCV(knn_pipeline,\n",
        "                   param_grid={\n",
        "                       \"kneighborsregressor__n_neighbors\": range(1, 20)\n",
        "                       },\n",
        "                   scoring=\"neg_mean_squared_error\",\n",
        "                   cv=10)\n",
        "\n",
        "clf.fit(df_music_train[knn_best_vars], df_music_train[\"priceMin\"])\n",
        "clf.best_estimator_"
      ],
      "execution_count": 10,
      "outputs": [
        {
          "output_type": "execute_result",
          "data": {
            "text/plain": [
              "Pipeline(memory=None,\n",
              "         steps=[('columntransformer',\n",
              "                 ColumnTransformer(n_jobs=None, remainder='passthrough',\n",
              "                                   sparse_threshold=0.3,\n",
              "                                   transformer_weights=None,\n",
              "                                   transformers=[('tfidfvectorizer-1',\n",
              "                                                  TfidfVectorizer(analyzer='word',\n",
              "                                                                  binary=False,\n",
              "                                                                  decode_error='strict',\n",
              "                                                                  dtype=<class 'numpy.float64'>,\n",
              "                                                                  encoding='utf-8',\n",
              "                                                                  input='content',\n",
              "                                                                  lowercase=True,\n",
              "                                                                  max_df=1.0,\n",
              "                                                                  max_feature...\n",
              "                                                                handle_unknown='ignore',\n",
              "                                                                sparse=True),\n",
              "                                                  ['promoter.name', 'subGenre',\n",
              "                                                   'city', 'state',\n",
              "                                                   'venueName'])],\n",
              "                                   verbose=False)),\n",
              "                ('standardscaler',\n",
              "                 StandardScaler(copy=True, with_mean=False, with_std=True)),\n",
              "                ('kneighborsregressor',\n",
              "                 KNeighborsRegressor(algorithm='auto', leaf_size=30,\n",
              "                                     metric='minkowski', metric_params=None,\n",
              "                                     n_jobs=None, n_neighbors=8, p=2,\n",
              "                                     weights='uniform'))],\n",
              "         verbose=False)"
            ]
          },
          "metadata": {
            "tags": []
          },
          "execution_count": 10
        }
      ]
    },
    {
      "cell_type": "code",
      "metadata": {
        "id": "sMoi491P1ayQ",
        "colab_type": "code",
        "outputId": "e0876d0a-3d02-4b31-ee22-00ced3c07e3c",
        "colab": {
          "base_uri": "https://localhost:8080/",
          "height": 34
        }
      },
      "source": [
        "knn_final_pipeline = make_pipeline(\n",
        "    knn_ct, \n",
        "    StandardScaler(with_mean=False), \n",
        "    KNeighborsRegressor(n_neighbors=9)\n",
        ")\n",
        "\n",
        "knn_final_errs = -cross_val_score(knn_final_pipeline, X=df_music_train[knn_best_vars], \n",
        "                          y=df_music_train[\"priceMin\"],\n",
        "                          scoring=\"neg_mean_squared_error\", cv=10)\n",
        "np.sqrt(knn_final_errs).mean()"
      ],
      "execution_count": 11,
      "outputs": [
        {
          "output_type": "execute_result",
          "data": {
            "text/plain": [
              "14.572863656524973"
            ]
          },
          "metadata": {
            "tags": []
          },
          "execution_count": 11
        }
      ]
    },
    {
      "cell_type": "markdown",
      "metadata": {
        "id": "eSMH1AlX2K-2",
        "colab_type": "text"
      },
      "source": [
        "Linear Regression"
      ]
    },
    {
      "cell_type": "code",
      "metadata": {
        "id": "G3iYlWK82NBz",
        "colab_type": "code",
        "outputId": "7c754ef1-ce0e-48e8-fde6-ee6b3c6980a1",
        "colab": {
          "base_uri": "https://localhost:8080/",
          "height": 241
        }
      },
      "source": [
        "linear_errs = get_combo_errors(\"priceMin\", LinearRegression())\n",
        "linear_errs"
      ],
      "execution_count": 12,
      "outputs": [
        {
          "output_type": "execute_result",
          "data": {
            "text/plain": [
              "['num.artists', 'latitude', 'longitude', 'venueUpcoming', 'date_quant', 'promoter.name', 'subGenre', 'city', 'state', 'venueName', 'attractionName', 'name', 'info', 'pleaseNote']    17.755153\n",
              "['num.artists', 'latitude', 'longitude', 'venueUpcoming', 'date_quant', 'promoter.name', 'subGenre', 'city', 'state', 'venueName', 'attractionName', 'name', 'info']                  19.823341\n",
              "['num.artists', 'latitude', 'longitude', 'venueUpcoming', 'date_quant', 'promoter.name', 'subGenre', 'city', 'state', 'venueName', 'attractionName', 'name']                          36.634006\n",
              "['num.artists', 'latitude', 'longitude', 'venueUpcoming', 'date_quant', 'promoter.name', 'subGenre', 'city', 'state', 'venueName', 'name', 'info', 'pleaseNote']                      24.670809\n",
              "['num.artists', 'latitude', 'longitude', 'venueUpcoming', 'date_quant', 'promoter.name', 'subGenre', 'city', 'state', 'venueName', 'name', 'info']                                    31.669782\n",
              "                                                                                                                                                                                        ...    \n",
              "['num.artists', 'promoter.name', 'subGenre', 'name', 'info']                                                                                                                          34.420467\n",
              "['num.artists', 'promoter.name', 'subGenre', 'name']                                                                                                                                  15.446221\n",
              "['num.artists', 'promoter.name', 'name', 'info', 'pleaseNote']                                                                                                                        72.945598\n",
              "['num.artists', 'promoter.name', 'name', 'info']                                                                                                                                      33.421095\n",
              "['num.artists', 'promoter.name', 'name']                                                                                                                                              15.047674\n",
              "Length: 90, dtype: float64"
            ]
          },
          "metadata": {
            "tags": []
          },
          "execution_count": 12
        }
      ]
    },
    {
      "cell_type": "code",
      "metadata": {
        "id": "Ih9A_UQY27hL",
        "colab_type": "code",
        "outputId": "61831fd8-268c-43f1-98ba-04dd54c29c88",
        "colab": {
          "base_uri": "https://localhost:8080/",
          "height": 34
        }
      },
      "source": [
        "linear_errs.idxmin()"
      ],
      "execution_count": 13,
      "outputs": [
        {
          "output_type": "execute_result",
          "data": {
            "text/plain": [
              "\"['num.artists', 'latitude', 'promoter.name', 'name']\""
            ]
          },
          "metadata": {
            "tags": []
          },
          "execution_count": 13
        }
      ]
    },
    {
      "cell_type": "code",
      "metadata": {
        "id": "QhKIUNKB2-_t",
        "colab_type": "code",
        "outputId": "da77f2fa-0fc5-4818-8b36-18f849845bf3",
        "colab": {
          "base_uri": "https://localhost:8080/",
          "height": 34
        }
      },
      "source": [
        "linear_best_vars = ['num.artists', 'latitude', 'promoter.name', 'name']\n",
        "\n",
        "linear_ct = make_column_transformer(\n",
        "    (TfidfVectorizer(max_features=50, norm=None), \"name\"), \n",
        "    (OneHotEncoder(handle_unknown=\"ignore\"), [\"promoter.name\"]), \n",
        "    remainder= \"passthrough\"\n",
        ")\n",
        "\n",
        "linear_final_pipeline = make_pipeline(\n",
        "    linear_ct, \n",
        "    StandardScaler(with_mean=False), \n",
        "    LinearRegression()\n",
        ")\n",
        "\n",
        "linear_final_errs = -cross_val_score(linear_final_pipeline, X=df_music_train[linear_best_vars], \n",
        "                          y=df_music_train[\"priceMin\"],\n",
        "                          scoring=\"neg_mean_squared_error\", cv=10)\n",
        "np.sqrt(linear_final_errs).mean()"
      ],
      "execution_count": 14,
      "outputs": [
        {
          "output_type": "execute_result",
          "data": {
            "text/plain": [
              "14.69988366914221"
            ]
          },
          "metadata": {
            "tags": []
          },
          "execution_count": 14
        }
      ]
    },
    {
      "cell_type": "markdown",
      "metadata": {
        "id": "b4NY2mXk3VLG",
        "colab_type": "text"
      },
      "source": [
        "RandomForest Regression"
      ]
    },
    {
      "cell_type": "code",
      "metadata": {
        "id": "gcuC1nOA3WyJ",
        "colab_type": "code",
        "outputId": "21c74277-68f6-4292-be6c-205700ec3e5d",
        "colab": {
          "base_uri": "https://localhost:8080/",
          "height": 241
        }
      },
      "source": [
        "rf_errs = get_combo_errors(\"priceMin\", RandomForestRegressor())\n",
        "rf_errs"
      ],
      "execution_count": 15,
      "outputs": [
        {
          "output_type": "execute_result",
          "data": {
            "text/plain": [
              "['num.artists', 'latitude', 'longitude', 'venueUpcoming', 'date_quant', 'promoter.name', 'subGenre', 'city', 'state', 'venueName', 'attractionName', 'name', 'info', 'pleaseNote']    14.038818\n",
              "['num.artists', 'latitude', 'longitude', 'venueUpcoming', 'date_quant', 'promoter.name', 'subGenre', 'city', 'state', 'venueName', 'attractionName', 'name', 'info']                  14.074098\n",
              "['num.artists', 'latitude', 'longitude', 'venueUpcoming', 'date_quant', 'promoter.name', 'subGenre', 'city', 'state', 'venueName', 'attractionName', 'name']                          13.991792\n",
              "['num.artists', 'latitude', 'longitude', 'venueUpcoming', 'date_quant', 'promoter.name', 'subGenre', 'city', 'state', 'venueName', 'name', 'info', 'pleaseNote']                      14.165035\n",
              "['num.artists', 'latitude', 'longitude', 'venueUpcoming', 'date_quant', 'promoter.name', 'subGenre', 'city', 'state', 'venueName', 'name', 'info']                                    13.995288\n",
              "                                                                                                                                                                                        ...    \n",
              "['num.artists', 'promoter.name', 'subGenre', 'name', 'info']                                                                                                                          14.222211\n",
              "['num.artists', 'promoter.name', 'subGenre', 'name']                                                                                                                                  14.903367\n",
              "['num.artists', 'promoter.name', 'name', 'info', 'pleaseNote']                                                                                                                        14.437345\n",
              "['num.artists', 'promoter.name', 'name', 'info']                                                                                                                                      14.382809\n",
              "['num.artists', 'promoter.name', 'name']                                                                                                                                              14.837099\n",
              "Length: 90, dtype: float64"
            ]
          },
          "metadata": {
            "tags": []
          },
          "execution_count": 15
        }
      ]
    },
    {
      "cell_type": "code",
      "metadata": {
        "id": "VB7aK1o76WFA",
        "colab_type": "code",
        "outputId": "e880331c-e538-4dcd-d7b6-69192c7c6c20",
        "colab": {
          "base_uri": "https://localhost:8080/",
          "height": 34
        }
      },
      "source": [
        "rf_errs.idxmin()"
      ],
      "execution_count": 16,
      "outputs": [
        {
          "output_type": "execute_result",
          "data": {
            "text/plain": [
              "\"['num.artists', 'latitude', 'promoter.name', 'subGenre', 'city', 'state', 'venueName', 'attractionName', 'name', 'info', 'pleaseNote']\""
            ]
          },
          "metadata": {
            "tags": []
          },
          "execution_count": 16
        }
      ]
    },
    {
      "cell_type": "code",
      "metadata": {
        "id": "UywQIP936ZUR",
        "colab_type": "code",
        "outputId": "bd348290-c393-4c6e-932d-ade8c3e70fee",
        "colab": {
          "base_uri": "https://localhost:8080/",
          "height": 34
        }
      },
      "source": [
        "rf_best_vars = ['num.artists', 'latitude', 'promoter.name', 'subGenre', 'city', 'state', 'venueName', 'attractionName', 'name', 'info', 'pleaseNote']\n",
        "\n",
        "rf_ct = make_column_transformer(\n",
        "    (TfidfVectorizer(max_features=50, norm=None), \"name\"), \n",
        "    (TfidfVectorizer(max_features=50, norm=None), \"info\"),\n",
        "    (TfidfVectorizer(max_features=50, norm=None), \"pleaseNote\"),\n",
        "    (OneHotEncoder(handle_unknown=\"ignore\"), [\"promoter.name\", \"subGenre\", \"city\", \"state\", \"venueName\", \"attractionName\"]), \n",
        "    remainder= \"passthrough\"\n",
        ")\n",
        "\n",
        "rf_final_pipeline = make_pipeline(\n",
        "    rf_ct, \n",
        "    StandardScaler(with_mean=False), \n",
        "    RandomForestRegressor()\n",
        ")\n",
        "\n",
        "rf_final_errs = -cross_val_score(rf_final_pipeline, X=df_music_train[rf_best_vars], \n",
        "                          y=df_music_train[\"priceMin\"],\n",
        "                          scoring=\"neg_mean_squared_error\", cv=10)\n",
        "np.sqrt(rf_final_errs).mean()"
      ],
      "execution_count": 17,
      "outputs": [
        {
          "output_type": "execute_result",
          "data": {
            "text/plain": [
              "13.72409064399621"
            ]
          },
          "metadata": {
            "tags": []
          },
          "execution_count": 17
        }
      ]
    },
    {
      "cell_type": "markdown",
      "metadata": {
        "id": "oQRmACLK8JmQ",
        "colab_type": "text"
      },
      "source": [
        "Each model had a different set of variables that minimized error. \n",
        "\n",
        "Their respective included features and RMSEs are as follows:\n",
        "\n",
        "KNeighborsRegressor(n_neighbors=8): \n",
        "*   num.artists, latitude, promoter.name, subGenre, city, state, venueName, name, info, pleaseNote\n",
        "*   14.572863656524973\n",
        "\n",
        "LinearRegressor:\n",
        "*   num.artists, latitude, promoter.name, name\n",
        "*   14.69988366914221\n",
        "\n",
        "RandomForestRegressor: \n",
        "*   num.artists, latitude, promoter.name, subGenre, city, state, venueName, attractionName, name, info, pleaseNote\n",
        "*   13.72409064399621\n",
        "\n",
        "\n",
        "The RandomForest model minimized error the most with an RMSE of 13.72409064399621\n",
        "\n"
      ]
    },
    {
      "cell_type": "markdown",
      "metadata": {
        "id": "w_pBekySg5E4",
        "colab_type": "text"
      },
      "source": [
        "# priceMax Model"
      ]
    },
    {
      "cell_type": "code",
      "metadata": {
        "id": "3qIjKGgcMMKE",
        "colab_type": "code",
        "colab": {}
      },
      "source": [
        "quantitative = [\"num.artists\", \"latitude\", \"longitude\", \"venueUpcoming\", \"date_quant\"]\n",
        "categorical = [\"promoter.name\", \"subGenre\", \"city\", \"state\", \"venueName\", \"attractionName\"]\n",
        "text = [\"name\", \"info\", \"pleaseNote\"]"
      ],
      "execution_count": 0,
      "outputs": []
    },
    {
      "cell_type": "markdown",
      "metadata": {
        "id": "plwrOuVf1CCS",
        "colab_type": "text"
      },
      "source": [
        "K-Nearest Neighbors Regressor"
      ]
    },
    {
      "cell_type": "code",
      "metadata": {
        "id": "D7miH_Sm1BDM",
        "colab_type": "code",
        "outputId": "b3fa9278-820d-40a0-b494-bf770bd6d7f9",
        "colab": {
          "base_uri": "https://localhost:8080/",
          "height": 241
        }
      },
      "source": [
        "knn_errs_max = get_combo_errors(\"priceMax\", KNeighborsRegressor(n_neighbors=10))\n",
        "knn_errs_max"
      ],
      "execution_count": 19,
      "outputs": [
        {
          "output_type": "execute_result",
          "data": {
            "text/plain": [
              "['num.artists', 'latitude', 'longitude', 'venueUpcoming', 'date_quant', 'promoter.name', 'subGenre', 'city', 'state', 'venueName', 'attractionName', 'name', 'info', 'pleaseNote']     75.568314\n",
              "['num.artists', 'latitude', 'longitude', 'venueUpcoming', 'date_quant', 'promoter.name', 'subGenre', 'city', 'state', 'venueName', 'attractionName', 'name', 'info']                   98.372027\n",
              "['num.artists', 'latitude', 'longitude', 'venueUpcoming', 'date_quant', 'promoter.name', 'subGenre', 'city', 'state', 'venueName', 'attractionName', 'name']                           96.882677\n",
              "['num.artists', 'latitude', 'longitude', 'venueUpcoming', 'date_quant', 'promoter.name', 'subGenre', 'city', 'state', 'venueName', 'name', 'info', 'pleaseNote']                       77.060018\n",
              "['num.artists', 'latitude', 'longitude', 'venueUpcoming', 'date_quant', 'promoter.name', 'subGenre', 'city', 'state', 'venueName', 'name', 'info']                                    106.135867\n",
              "                                                                                                                                                                                         ...    \n",
              "['num.artists', 'promoter.name', 'subGenre', 'name', 'info']                                                                                                                           75.465143\n",
              "['num.artists', 'promoter.name', 'subGenre', 'name']                                                                                                                                   73.375682\n",
              "['num.artists', 'promoter.name', 'name', 'info', 'pleaseNote']                                                                                                                         77.065877\n",
              "['num.artists', 'promoter.name', 'name', 'info']                                                                                                                                       74.333935\n",
              "['num.artists', 'promoter.name', 'name']                                                                                                                                               70.499838\n",
              "Length: 90, dtype: float64"
            ]
          },
          "metadata": {
            "tags": []
          },
          "execution_count": 19
        }
      ]
    },
    {
      "cell_type": "code",
      "metadata": {
        "id": "Zb5GF7NK1Zwv",
        "colab_type": "code",
        "outputId": "add8855b-57b3-4bf5-cb36-b11ef95de085",
        "colab": {
          "base_uri": "https://localhost:8080/",
          "height": 34
        }
      },
      "source": [
        "knn_errs_max.idxmin()"
      ],
      "execution_count": 20,
      "outputs": [
        {
          "output_type": "execute_result",
          "data": {
            "text/plain": [
              "\"['num.artists', 'promoter.name', 'name']\""
            ]
          },
          "metadata": {
            "tags": []
          },
          "execution_count": 20
        }
      ]
    },
    {
      "cell_type": "code",
      "metadata": {
        "id": "4fEust1l1frz",
        "colab_type": "code",
        "outputId": "dc5d7018-cb1f-4ff7-e0d0-53ad40397a12",
        "colab": {
          "base_uri": "https://localhost:8080/",
          "height": 493
        }
      },
      "source": [
        "#find optimal value of k \n",
        "knn_max_best_vars = ['num.artists', 'promoter.name', 'name']\n",
        "\n",
        "knn_max_ct = make_column_transformer(\n",
        "    (TfidfVectorizer(max_features=50, norm=None), \"name\"), \n",
        "    (OneHotEncoder(handle_unknown=\"ignore\"), [\"promoter.name\"]), \n",
        "    remainder= \"passthrough\"\n",
        ")\n",
        "\n",
        "knn_max_pipeline = make_pipeline(\n",
        "    knn_max_ct, \n",
        "    StandardScaler(with_mean=False), \n",
        "    KNeighborsRegressor(n_neighbors=10)\n",
        ")\n",
        "clf_max = GridSearchCV(knn_max_pipeline,\n",
        "                   param_grid={\n",
        "                       \"kneighborsregressor__n_neighbors\": range(1, 20)\n",
        "                       },\n",
        "                   scoring=\"neg_mean_squared_error\",\n",
        "                   cv=10)\n",
        "\n",
        "clf_max.fit(df_music_train[knn_max_best_vars], df_music_train[\"priceMax\"])\n",
        "clf_max.best_estimator_"
      ],
      "execution_count": 22,
      "outputs": [
        {
          "output_type": "execute_result",
          "data": {
            "text/plain": [
              "Pipeline(memory=None,\n",
              "         steps=[('columntransformer',\n",
              "                 ColumnTransformer(n_jobs=None, remainder='passthrough',\n",
              "                                   sparse_threshold=0.3,\n",
              "                                   transformer_weights=None,\n",
              "                                   transformers=[('tfidfvectorizer',\n",
              "                                                  TfidfVectorizer(analyzer='word',\n",
              "                                                                  binary=False,\n",
              "                                                                  decode_error='strict',\n",
              "                                                                  dtype=<class 'numpy.float64'>,\n",
              "                                                                  encoding='utf-8',\n",
              "                                                                  input='content',\n",
              "                                                                  lowercase=True,\n",
              "                                                                  max_df=1.0,\n",
              "                                                                  max_features=...\n",
              "                                                                dtype=<class 'numpy.float64'>,\n",
              "                                                                handle_unknown='ignore',\n",
              "                                                                sparse=True),\n",
              "                                                  ['promoter.name'])],\n",
              "                                   verbose=False)),\n",
              "                ('standardscaler',\n",
              "                 StandardScaler(copy=True, with_mean=False, with_std=True)),\n",
              "                ('kneighborsregressor',\n",
              "                 KNeighborsRegressor(algorithm='auto', leaf_size=30,\n",
              "                                     metric='minkowski', metric_params=None,\n",
              "                                     n_jobs=None, n_neighbors=10, p=2,\n",
              "                                     weights='uniform'))],\n",
              "         verbose=False)"
            ]
          },
          "metadata": {
            "tags": []
          },
          "execution_count": 22
        }
      ]
    },
    {
      "cell_type": "code",
      "metadata": {
        "id": "boi5Wicv16pE",
        "colab_type": "code",
        "outputId": "7fc4e044-4a2c-4e73-a99e-328377a0935c",
        "colab": {
          "base_uri": "https://localhost:8080/",
          "height": 34
        }
      },
      "source": [
        "knn_max_final_pipeline = make_pipeline(\n",
        "    knn_max_ct, \n",
        "    StandardScaler(with_mean=False), \n",
        "    KNeighborsRegressor(n_neighbors=10)\n",
        ")\n",
        "\n",
        "knn_max_final_errs = -cross_val_score(knn_max_final_pipeline, X=df_music_train[knn_max_best_vars], \n",
        "                          y=df_music_train[\"priceMax\"],\n",
        "                          scoring=\"neg_mean_squared_error\", cv=10)\n",
        "np.sqrt(knn_max_final_errs).mean()"
      ],
      "execution_count": 24,
      "outputs": [
        {
          "output_type": "execute_result",
          "data": {
            "text/plain": [
              "70.4998378655803"
            ]
          },
          "metadata": {
            "tags": []
          },
          "execution_count": 24
        }
      ]
    },
    {
      "cell_type": "markdown",
      "metadata": {
        "id": "Pn0BO3gc2Nc_",
        "colab_type": "text"
      },
      "source": [
        "Linear Regression"
      ]
    },
    {
      "cell_type": "code",
      "metadata": {
        "id": "I6IlMfWS2PDy",
        "colab_type": "code",
        "outputId": "aca0fbcd-578d-4ef2-b5c0-a1cb35d30ae5",
        "colab": {
          "base_uri": "https://localhost:8080/",
          "height": 241
        }
      },
      "source": [
        "linear_errs_max = get_combo_errors(\"priceMax\", LinearRegression())\n",
        "linear_errs_max"
      ],
      "execution_count": 25,
      "outputs": [
        {
          "output_type": "execute_result",
          "data": {
            "text/plain": [
              "['num.artists', 'latitude', 'longitude', 'venueUpcoming', 'date_quant', 'promoter.name', 'subGenre', 'city', 'state', 'venueName', 'attractionName', 'name', 'info', 'pleaseNote']     76.529347\n",
              "['num.artists', 'latitude', 'longitude', 'venueUpcoming', 'date_quant', 'promoter.name', 'subGenre', 'city', 'state', 'venueName', 'attractionName', 'name', 'info']                   80.943493\n",
              "['num.artists', 'latitude', 'longitude', 'venueUpcoming', 'date_quant', 'promoter.name', 'subGenre', 'city', 'state', 'venueName', 'attractionName', 'name']                          115.614278\n",
              "['num.artists', 'latitude', 'longitude', 'venueUpcoming', 'date_quant', 'promoter.name', 'subGenre', 'city', 'state', 'venueName', 'name', 'info', 'pleaseNote']                       87.722006\n",
              "['num.artists', 'latitude', 'longitude', 'venueUpcoming', 'date_quant', 'promoter.name', 'subGenre', 'city', 'state', 'venueName', 'name', 'info']                                     93.931507\n",
              "                                                                                                                                                                                         ...    \n",
              "['num.artists', 'promoter.name', 'subGenre', 'name', 'info']                                                                                                                          238.117644\n",
              "['num.artists', 'promoter.name', 'subGenre', 'name']                                                                                                                                   78.075308\n",
              "['num.artists', 'promoter.name', 'name', 'info', 'pleaseNote']                                                                                                                        506.671345\n",
              "['num.artists', 'promoter.name', 'name', 'info']                                                                                                                                      247.044177\n",
              "['num.artists', 'promoter.name', 'name']                                                                                                                                               74.888163\n",
              "Length: 90, dtype: float64"
            ]
          },
          "metadata": {
            "tags": []
          },
          "execution_count": 25
        }
      ]
    },
    {
      "cell_type": "code",
      "metadata": {
        "id": "RlzNeVsI4b7T",
        "colab_type": "code",
        "outputId": "14ce7b43-76fc-4f58-cf89-8602da76932b",
        "colab": {
          "base_uri": "https://localhost:8080/",
          "height": 34
        }
      },
      "source": [
        "linear_errs_max.idxmin()"
      ],
      "execution_count": 26,
      "outputs": [
        {
          "output_type": "execute_result",
          "data": {
            "text/plain": [
              "\"['num.artists', 'promoter.name', 'name']\""
            ]
          },
          "metadata": {
            "tags": []
          },
          "execution_count": 26
        }
      ]
    },
    {
      "cell_type": "code",
      "metadata": {
        "id": "y9QUW_524fuz",
        "colab_type": "code",
        "outputId": "39e781b6-edae-40ca-ba5c-d91127eeaa28",
        "colab": {
          "base_uri": "https://localhost:8080/",
          "height": 34
        }
      },
      "source": [
        "linear_max_best_vars = ['num.artists', 'promoter.name', 'name']\n",
        "\n",
        "linear_max_ct = make_column_transformer(\n",
        "    (TfidfVectorizer(max_features=50, norm=None), \"name\"), \n",
        "    (OneHotEncoder(handle_unknown=\"ignore\"), [\"promoter.name\"]), \n",
        "    remainder= \"passthrough\"\n",
        ")\n",
        "\n",
        "linear_max_final_pipeline = make_pipeline(\n",
        "    linear_max_ct, \n",
        "    StandardScaler(with_mean=False), \n",
        "    LinearRegression()\n",
        ")\n",
        "\n",
        "linear_max_final_errs = -cross_val_score(linear_max_final_pipeline, X=df_music_train[linear_max_best_vars], \n",
        "                          y=df_music_train[\"priceMax\"],\n",
        "                          scoring=\"neg_mean_squared_error\", cv=10)\n",
        "np.sqrt(linear_max_final_errs).mean()"
      ],
      "execution_count": 27,
      "outputs": [
        {
          "output_type": "execute_result",
          "data": {
            "text/plain": [
              "74.88816313574499"
            ]
          },
          "metadata": {
            "tags": []
          },
          "execution_count": 27
        }
      ]
    },
    {
      "cell_type": "markdown",
      "metadata": {
        "id": "8zsSS5h25ISV",
        "colab_type": "text"
      },
      "source": [
        "RandomForest Regression"
      ]
    },
    {
      "cell_type": "code",
      "metadata": {
        "id": "EYeJdWBk5HoI",
        "colab_type": "code",
        "outputId": "eba89f90-54b0-4cf7-ac5d-e70bb433c445",
        "colab": {
          "base_uri": "https://localhost:8080/",
          "height": 241
        }
      },
      "source": [
        "rf_max_errs = get_combo_errors(\"priceMax\", RandomForestRegressor())\n",
        "rf_max_errs"
      ],
      "execution_count": 28,
      "outputs": [
        {
          "output_type": "execute_result",
          "data": {
            "text/plain": [
              "['num.artists', 'latitude', 'longitude', 'venueUpcoming', 'date_quant', 'promoter.name', 'subGenre', 'city', 'state', 'venueName', 'attractionName', 'name', 'info', 'pleaseNote']    67.979130\n",
              "['num.artists', 'latitude', 'longitude', 'venueUpcoming', 'date_quant', 'promoter.name', 'subGenre', 'city', 'state', 'venueName', 'attractionName', 'name', 'info']                  64.107707\n",
              "['num.artists', 'latitude', 'longitude', 'venueUpcoming', 'date_quant', 'promoter.name', 'subGenre', 'city', 'state', 'venueName', 'attractionName', 'name']                          64.331644\n",
              "['num.artists', 'latitude', 'longitude', 'venueUpcoming', 'date_quant', 'promoter.name', 'subGenre', 'city', 'state', 'venueName', 'name', 'info', 'pleaseNote']                      68.724208\n",
              "['num.artists', 'latitude', 'longitude', 'venueUpcoming', 'date_quant', 'promoter.name', 'subGenre', 'city', 'state', 'venueName', 'name', 'info']                                    65.969952\n",
              "                                                                                                                                                                                        ...    \n",
              "['num.artists', 'promoter.name', 'subGenre', 'name', 'info']                                                                                                                          72.252230\n",
              "['num.artists', 'promoter.name', 'subGenre', 'name']                                                                                                                                  75.692752\n",
              "['num.artists', 'promoter.name', 'name', 'info', 'pleaseNote']                                                                                                                        77.025675\n",
              "['num.artists', 'promoter.name', 'name', 'info']                                                                                                                                      72.514075\n",
              "['num.artists', 'promoter.name', 'name']                                                                                                                                              78.013387\n",
              "Length: 90, dtype: float64"
            ]
          },
          "metadata": {
            "tags": []
          },
          "execution_count": 28
        }
      ]
    },
    {
      "cell_type": "code",
      "metadata": {
        "id": "ldxQN8ex8HdC",
        "colab_type": "code",
        "outputId": "c26ffb0b-449d-4218-f6d9-5a707a5573de",
        "colab": {
          "base_uri": "https://localhost:8080/",
          "height": 34
        }
      },
      "source": [
        "rf_max_errs.idxmin()"
      ],
      "execution_count": 29,
      "outputs": [
        {
          "output_type": "execute_result",
          "data": {
            "text/plain": [
              "\"['num.artists', 'latitude', 'longitude', 'venueUpcoming', 'promoter.name', 'subGenre', 'city', 'state', 'venueName', 'attractionName', 'name']\""
            ]
          },
          "metadata": {
            "tags": []
          },
          "execution_count": 29
        }
      ]
    },
    {
      "cell_type": "code",
      "metadata": {
        "id": "04QTtXcX8KHR",
        "colab_type": "code",
        "outputId": "82256208-529b-458b-de2e-05378a7643c1",
        "colab": {
          "base_uri": "https://localhost:8080/",
          "height": 34
        }
      },
      "source": [
        "rf_max_best_vars = ['num.artists', 'latitude', 'longitude', 'venueUpcoming', 'promoter.name', 'subGenre', 'city', 'state', 'venueName', 'attractionName', 'name']\n",
        "\n",
        "rf_max_ct = make_column_transformer(\n",
        "    (TfidfVectorizer(max_features=50, norm=None), \"name\"), \n",
        "    (OneHotEncoder(handle_unknown=\"ignore\"), [\"promoter.name\", \"subGenre\", \"city\", \"state\", \"venueName\", \"attractionName\"]), \n",
        "    remainder= \"passthrough\"\n",
        ")\n",
        "\n",
        "rf_max_final_pipeline = make_pipeline(\n",
        "    rf_max_ct, \n",
        "    StandardScaler(with_mean=False), \n",
        "    RandomForestRegressor()\n",
        ")\n",
        "\n",
        "rf_max_final_errs = -cross_val_score(rf_max_final_pipeline, X=df_music_train[rf_max_best_vars], \n",
        "                          y=df_music_train[\"priceMax\"],\n",
        "                          scoring=\"neg_mean_squared_error\", cv=10)\n",
        "np.sqrt(rf_max_final_errs).mean()"
      ],
      "execution_count": 30,
      "outputs": [
        {
          "output_type": "execute_result",
          "data": {
            "text/plain": [
              "63.43886369366631"
            ]
          },
          "metadata": {
            "tags": []
          },
          "execution_count": 30
        }
      ]
    },
    {
      "cell_type": "markdown",
      "metadata": {
        "id": "5_PXOO4c8k6C",
        "colab_type": "text"
      },
      "source": [
        "Each model had a different set of variables that minimized error. \n",
        "\n",
        "Their respective included features RMSEs are as follows:\n",
        "\n",
        "KNeighborsRegressor(n_neighbors=10): \n",
        "*   num.artists, promoter.name, name\n",
        "*   70.4998378655803\n",
        "\n",
        "LinearRegressor:\n",
        "*   num.artists, promoter.name, name\n",
        "*   74.88816313574499\n",
        "\n",
        "RandomForestRegressor: \n",
        "*   num.artists, latitude, longitude, venueUpcoming, promoter.name, subGenre, city, state, venueName, attractionName, name\n",
        "*   63.43886369366631\n",
        "\n",
        "The RandomForest model minimized error the most with an RMSE of 63.43886369366631"
      ]
    },
    {
      "cell_type": "markdown",
      "metadata": {
        "id": "BZjy88ZZGP0e",
        "colab_type": "text"
      },
      "source": [
        "# Predictions"
      ]
    },
    {
      "cell_type": "markdown",
      "metadata": {
        "id": "Z7c-2pFpGRz9",
        "colab_type": "text"
      },
      "source": [
        "Using a test data set in which the priceRanges feature was NaN, we will predict the priceMin and priceMax of each event using the model that minimized error the most for the particular variable. "
      ]
    },
    {
      "cell_type": "code",
      "metadata": {
        "id": "upMoght4Ghnt",
        "colab_type": "code",
        "outputId": "668abdfb-fe6a-4b3e-96db-21f465f1455d",
        "colab": {
          "base_uri": "https://localhost:8080/",
          "height": 620
        }
      },
      "source": [
        "df_music_test = pd.read_csv(\"https://raw.githubusercontent.com/reillynski/data301-finalproject/master/df_music_test.csv\", index_col=0)\n",
        "df_music_test"
      ],
      "execution_count": 31,
      "outputs": [
        {
          "output_type": "execute_result",
          "data": {
            "text/html": [
              "<div>\n",
              "<style scoped>\n",
              "    .dataframe tbody tr th:only-of-type {\n",
              "        vertical-align: middle;\n",
              "    }\n",
              "\n",
              "    .dataframe tbody tr th {\n",
              "        vertical-align: top;\n",
              "    }\n",
              "\n",
              "    .dataframe thead th {\n",
              "        text-align: right;\n",
              "    }\n",
              "</style>\n",
              "<table border=\"1\" class=\"dataframe\">\n",
              "  <thead>\n",
              "    <tr style=\"text-align: right;\">\n",
              "      <th></th>\n",
              "      <th>name</th>\n",
              "      <th>type</th>\n",
              "      <th>promoter.name</th>\n",
              "      <th>info</th>\n",
              "      <th>pleaseNote</th>\n",
              "      <th>subGenre</th>\n",
              "      <th>city</th>\n",
              "      <th>state</th>\n",
              "      <th>venueName</th>\n",
              "      <th>attractionName</th>\n",
              "      <th>artists</th>\n",
              "      <th>num.artists</th>\n",
              "      <th>latitude</th>\n",
              "      <th>longitude</th>\n",
              "      <th>venueUpcoming</th>\n",
              "      <th>date</th>\n",
              "    </tr>\n",
              "  </thead>\n",
              "  <tbody>\n",
              "    <tr>\n",
              "      <th>0</th>\n",
              "      <td>Kevin Gates</td>\n",
              "      <td>event</td>\n",
              "      <td>NaN</td>\n",
              "      <td>NaN</td>\n",
              "      <td>NaN</td>\n",
              "      <td>Hip-Hop/Rap</td>\n",
              "      <td>Baltimore</td>\n",
              "      <td>Maryland</td>\n",
              "      <td>Rams Head Live</td>\n",
              "      <td>Kevin Gates</td>\n",
              "      <td>['Kevin Gates']</td>\n",
              "      <td>1</td>\n",
              "      <td>39.297401</td>\n",
              "      <td>-76.607399</td>\n",
              "      <td>16</td>\n",
              "      <td>2020-06-09</td>\n",
              "    </tr>\n",
              "    <tr>\n",
              "      <th>1</th>\n",
              "      <td>NF - The Search Tour</td>\n",
              "      <td>event</td>\n",
              "      <td>LIVE NATION MUSIC</td>\n",
              "      <td>NaN</td>\n",
              "      <td>NaN</td>\n",
              "      <td>French Rap</td>\n",
              "      <td>Tulsa</td>\n",
              "      <td>Oklahoma</td>\n",
              "      <td>Brady Theater</td>\n",
              "      <td>NF</td>\n",
              "      <td>['NF']</td>\n",
              "      <td>1</td>\n",
              "      <td>36.158186</td>\n",
              "      <td>-95.995284</td>\n",
              "      <td>6</td>\n",
              "      <td>2020-04-10</td>\n",
              "    </tr>\n",
              "    <tr>\n",
              "      <th>2</th>\n",
              "      <td>NF - The Search Tour</td>\n",
              "      <td>event</td>\n",
              "      <td>LIVE NATION MUSIC</td>\n",
              "      <td>NaN</td>\n",
              "      <td>NaN</td>\n",
              "      <td>French Rap</td>\n",
              "      <td>Milwaukee</td>\n",
              "      <td>Wisconsin</td>\n",
              "      <td>Eagles Club/The Rave/Eagles Ballroom</td>\n",
              "      <td>NF</td>\n",
              "      <td>['NF']</td>\n",
              "      <td>1</td>\n",
              "      <td>43.038074</td>\n",
              "      <td>-87.943308</td>\n",
              "      <td>19</td>\n",
              "      <td>2020-04-16</td>\n",
              "    </tr>\n",
              "    <tr>\n",
              "      <th>3</th>\n",
              "      <td>NF - The Search Tour</td>\n",
              "      <td>event</td>\n",
              "      <td>LIVE NATION MUSIC</td>\n",
              "      <td>NaN</td>\n",
              "      <td>NaN</td>\n",
              "      <td>French Rap</td>\n",
              "      <td>Buffalo</td>\n",
              "      <td>New York</td>\n",
              "      <td>Buffalo RiverWorks</td>\n",
              "      <td>NF</td>\n",
              "      <td>['NF']</td>\n",
              "      <td>1</td>\n",
              "      <td>42.869917</td>\n",
              "      <td>-78.872638</td>\n",
              "      <td>1</td>\n",
              "      <td>2020-04-18</td>\n",
              "    </tr>\n",
              "    <tr>\n",
              "      <th>4</th>\n",
              "      <td>NF - The Search Tour</td>\n",
              "      <td>event</td>\n",
              "      <td>LIVE NATION MUSIC</td>\n",
              "      <td>NaN</td>\n",
              "      <td>NaN</td>\n",
              "      <td>French Rap</td>\n",
              "      <td>Kansas City</td>\n",
              "      <td>Missouri</td>\n",
              "      <td>Starlight Theatre</td>\n",
              "      <td>NF</td>\n",
              "      <td>['NF']</td>\n",
              "      <td>1</td>\n",
              "      <td>39.006963</td>\n",
              "      <td>-94.531517</td>\n",
              "      <td>49</td>\n",
              "      <td>2020-05-12</td>\n",
              "    </tr>\n",
              "    <tr>\n",
              "      <th>5</th>\n",
              "      <td>POSTPONED :: Watsky - Placement Album Tour</td>\n",
              "      <td>event</td>\n",
              "      <td>NaN</td>\n",
              "      <td>Doors: 7 p.m. || Music: 8 p.m. || All Ages$20:...</td>\n",
              "      <td>NaN</td>\n",
              "      <td>Alternative Rap</td>\n",
              "      <td>Lincoln</td>\n",
              "      <td>Nebraska</td>\n",
              "      <td>Bourbon Theatre</td>\n",
              "      <td>Watsky</td>\n",
              "      <td>['Watsky', 'Feed the Biirds']</td>\n",
              "      <td>2</td>\n",
              "      <td>40.813344</td>\n",
              "      <td>-96.700617</td>\n",
              "      <td>56</td>\n",
              "      <td>2020-04-28</td>\n",
              "    </tr>\n",
              "    <tr>\n",
              "      <th>6</th>\n",
              "      <td>[POSTPONED] Watsky - Placement Album Tour</td>\n",
              "      <td>event</td>\n",
              "      <td>NaN</td>\n",
              "      <td>ALL AGESSHOW POSTPONED:Unfortunately, WATSKY a...</td>\n",
              "      <td>NaN</td>\n",
              "      <td>Urban</td>\n",
              "      <td>Boise</td>\n",
              "      <td>Idaho</td>\n",
              "      <td>Knitting Factory Concert House - Boise</td>\n",
              "      <td>Watsky</td>\n",
              "      <td>['Watsky', 'Hollis']</td>\n",
              "      <td>2</td>\n",
              "      <td>43.613149</td>\n",
              "      <td>-116.207134</td>\n",
              "      <td>56</td>\n",
              "      <td>2020-05-05</td>\n",
              "    </tr>\n",
              "    <tr>\n",
              "      <th>7</th>\n",
              "      <td>Pitbull</td>\n",
              "      <td>event</td>\n",
              "      <td>NaN</td>\n",
              "      <td>NaN</td>\n",
              "      <td>NaN</td>\n",
              "      <td>Hip-Hop/Rap</td>\n",
              "      <td>Edinburg</td>\n",
              "      <td>Texas</td>\n",
              "      <td>Bert Ogden Arena</td>\n",
              "      <td>Pitbull</td>\n",
              "      <td>['Pitbull']</td>\n",
              "      <td>1</td>\n",
              "      <td>26.293800</td>\n",
              "      <td>-98.154800</td>\n",
              "      <td>11</td>\n",
              "      <td>2020-05-10</td>\n",
              "    </tr>\n",
              "    <tr>\n",
              "      <th>8</th>\n",
              "      <td>Pitbull</td>\n",
              "      <td>event</td>\n",
              "      <td>NaN</td>\n",
              "      <td>NaN</td>\n",
              "      <td>NaN</td>\n",
              "      <td>Hip-Hop/Rap</td>\n",
              "      <td>Vienna</td>\n",
              "      <td>Virginia</td>\n",
              "      <td>Filene Center</td>\n",
              "      <td>Pitbull</td>\n",
              "      <td>['Pitbull']</td>\n",
              "      <td>1</td>\n",
              "      <td>38.906200</td>\n",
              "      <td>-77.294899</td>\n",
              "      <td>54</td>\n",
              "      <td>2020-08-30</td>\n",
              "    </tr>\n",
              "  </tbody>\n",
              "</table>\n",
              "</div>"
            ],
            "text/plain": [
              "                                         name   type  ... venueUpcoming        date\n",
              "0                                 Kevin Gates  event  ...            16  2020-06-09\n",
              "1                        NF - The Search Tour  event  ...             6  2020-04-10\n",
              "2                        NF - The Search Tour  event  ...            19  2020-04-16\n",
              "3                        NF - The Search Tour  event  ...             1  2020-04-18\n",
              "4                        NF - The Search Tour  event  ...            49  2020-05-12\n",
              "5  POSTPONED :: Watsky - Placement Album Tour  event  ...            56  2020-04-28\n",
              "6   [POSTPONED] Watsky - Placement Album Tour  event  ...            56  2020-05-05\n",
              "7                                     Pitbull  event  ...            11  2020-05-10\n",
              "8                                     Pitbull  event  ...            54  2020-08-30\n",
              "\n",
              "[9 rows x 16 columns]"
            ]
          },
          "metadata": {
            "tags": []
          },
          "execution_count": 31
        }
      ]
    },
    {
      "cell_type": "code",
      "metadata": {
        "id": "m_jJbzejGveu",
        "colab_type": "code",
        "colab": {}
      },
      "source": [
        "#adjust some columns to make it easier to use in ml model \n",
        "\n",
        "#fill/replace NaNs\n",
        "df_music_test[\"info\"] = df_music_test[\"info\"].fillna(\"\")\n",
        "df_music_test[\"pleaseNote\"] = df_music_test[\"pleaseNote\"].fillna(\"\")\n",
        "df_music_test[\"promoter.name\"] = df_music_test[\"promoter.name\"].fillna(\"None\")\n",
        "\n",
        "#create quantitative date column\n",
        "df_music_test[\"date_quant\"] = df_music_test[\"date\"].map(lambda x: int(x[5:7]) * 30 + int(x[8:10]))"
      ],
      "execution_count": 0,
      "outputs": []
    },
    {
      "cell_type": "code",
      "metadata": {
        "id": "JDCJcJxfHC63",
        "colab_type": "code",
        "colab": {}
      },
      "source": [
        "#make priceMin prediction\n",
        "X_test_min = df_music_test[rf_best_vars]\n",
        "\n",
        "rf_final_pipeline.fit(X=df_music_train[rf_best_vars], y=df_music_train[\"priceMin\"])\n",
        "\n",
        "df_music_test[\"priceMin\"] = rf_final_pipeline.predict(X=X_test_min)"
      ],
      "execution_count": 0,
      "outputs": []
    },
    {
      "cell_type": "code",
      "metadata": {
        "id": "2ZyTE8LCHbpz",
        "colab_type": "code",
        "colab": {
          "base_uri": "https://localhost:8080/",
          "height": 620
        },
        "outputId": "51b076aa-603c-4a36-836c-31df6c30617a"
      },
      "source": [
        "#make priceMax prediction\n",
        "X_test_max = df_music_test[rf_max_best_vars]\n",
        "\n",
        "rf_max_final_pipeline.fit(X=df_music_train[rf_max_best_vars], y=df_music_train[\"priceMax\"])\n",
        "\n",
        "df_music_test[\"priceMax\"] = rf_max_final_pipeline.predict(X=X_test_max)\n",
        "df_music_test"
      ],
      "execution_count": 34,
      "outputs": [
        {
          "output_type": "execute_result",
          "data": {
            "text/html": [
              "<div>\n",
              "<style scoped>\n",
              "    .dataframe tbody tr th:only-of-type {\n",
              "        vertical-align: middle;\n",
              "    }\n",
              "\n",
              "    .dataframe tbody tr th {\n",
              "        vertical-align: top;\n",
              "    }\n",
              "\n",
              "    .dataframe thead th {\n",
              "        text-align: right;\n",
              "    }\n",
              "</style>\n",
              "<table border=\"1\" class=\"dataframe\">\n",
              "  <thead>\n",
              "    <tr style=\"text-align: right;\">\n",
              "      <th></th>\n",
              "      <th>name</th>\n",
              "      <th>type</th>\n",
              "      <th>promoter.name</th>\n",
              "      <th>info</th>\n",
              "      <th>pleaseNote</th>\n",
              "      <th>subGenre</th>\n",
              "      <th>city</th>\n",
              "      <th>state</th>\n",
              "      <th>venueName</th>\n",
              "      <th>attractionName</th>\n",
              "      <th>artists</th>\n",
              "      <th>num.artists</th>\n",
              "      <th>latitude</th>\n",
              "      <th>longitude</th>\n",
              "      <th>venueUpcoming</th>\n",
              "      <th>date</th>\n",
              "      <th>date_quant</th>\n",
              "      <th>priceMin</th>\n",
              "      <th>priceMax</th>\n",
              "    </tr>\n",
              "  </thead>\n",
              "  <tbody>\n",
              "    <tr>\n",
              "      <th>0</th>\n",
              "      <td>Kevin Gates</td>\n",
              "      <td>event</td>\n",
              "      <td>None</td>\n",
              "      <td></td>\n",
              "      <td></td>\n",
              "      <td>Hip-Hop/Rap</td>\n",
              "      <td>Baltimore</td>\n",
              "      <td>Maryland</td>\n",
              "      <td>Rams Head Live</td>\n",
              "      <td>Kevin Gates</td>\n",
              "      <td>['Kevin Gates']</td>\n",
              "      <td>1</td>\n",
              "      <td>39.297401</td>\n",
              "      <td>-76.607399</td>\n",
              "      <td>16</td>\n",
              "      <td>2020-06-09</td>\n",
              "      <td>189</td>\n",
              "      <td>35.8214</td>\n",
              "      <td>70.7020</td>\n",
              "    </tr>\n",
              "    <tr>\n",
              "      <th>1</th>\n",
              "      <td>NF - The Search Tour</td>\n",
              "      <td>event</td>\n",
              "      <td>LIVE NATION MUSIC</td>\n",
              "      <td></td>\n",
              "      <td></td>\n",
              "      <td>French Rap</td>\n",
              "      <td>Tulsa</td>\n",
              "      <td>Oklahoma</td>\n",
              "      <td>Brady Theater</td>\n",
              "      <td>NF</td>\n",
              "      <td>['NF']</td>\n",
              "      <td>1</td>\n",
              "      <td>36.158186</td>\n",
              "      <td>-95.995284</td>\n",
              "      <td>6</td>\n",
              "      <td>2020-04-10</td>\n",
              "      <td>130</td>\n",
              "      <td>33.4613</td>\n",
              "      <td>77.2671</td>\n",
              "    </tr>\n",
              "    <tr>\n",
              "      <th>2</th>\n",
              "      <td>NF - The Search Tour</td>\n",
              "      <td>event</td>\n",
              "      <td>LIVE NATION MUSIC</td>\n",
              "      <td></td>\n",
              "      <td></td>\n",
              "      <td>French Rap</td>\n",
              "      <td>Milwaukee</td>\n",
              "      <td>Wisconsin</td>\n",
              "      <td>Eagles Club/The Rave/Eagles Ballroom</td>\n",
              "      <td>NF</td>\n",
              "      <td>['NF']</td>\n",
              "      <td>1</td>\n",
              "      <td>43.038074</td>\n",
              "      <td>-87.943308</td>\n",
              "      <td>19</td>\n",
              "      <td>2020-04-16</td>\n",
              "      <td>136</td>\n",
              "      <td>38.0390</td>\n",
              "      <td>66.3690</td>\n",
              "    </tr>\n",
              "    <tr>\n",
              "      <th>3</th>\n",
              "      <td>NF - The Search Tour</td>\n",
              "      <td>event</td>\n",
              "      <td>LIVE NATION MUSIC</td>\n",
              "      <td></td>\n",
              "      <td></td>\n",
              "      <td>French Rap</td>\n",
              "      <td>Buffalo</td>\n",
              "      <td>New York</td>\n",
              "      <td>Buffalo RiverWorks</td>\n",
              "      <td>NF</td>\n",
              "      <td>['NF']</td>\n",
              "      <td>1</td>\n",
              "      <td>42.869917</td>\n",
              "      <td>-78.872638</td>\n",
              "      <td>1</td>\n",
              "      <td>2020-04-18</td>\n",
              "      <td>138</td>\n",
              "      <td>37.2545</td>\n",
              "      <td>76.3297</td>\n",
              "    </tr>\n",
              "    <tr>\n",
              "      <th>4</th>\n",
              "      <td>NF - The Search Tour</td>\n",
              "      <td>event</td>\n",
              "      <td>LIVE NATION MUSIC</td>\n",
              "      <td></td>\n",
              "      <td></td>\n",
              "      <td>French Rap</td>\n",
              "      <td>Kansas City</td>\n",
              "      <td>Missouri</td>\n",
              "      <td>Starlight Theatre</td>\n",
              "      <td>NF</td>\n",
              "      <td>['NF']</td>\n",
              "      <td>1</td>\n",
              "      <td>39.006963</td>\n",
              "      <td>-94.531517</td>\n",
              "      <td>49</td>\n",
              "      <td>2020-05-12</td>\n",
              "      <td>162</td>\n",
              "      <td>36.9831</td>\n",
              "      <td>54.4925</td>\n",
              "    </tr>\n",
              "    <tr>\n",
              "      <th>5</th>\n",
              "      <td>POSTPONED :: Watsky - Placement Album Tour</td>\n",
              "      <td>event</td>\n",
              "      <td>None</td>\n",
              "      <td>Doors: 7 p.m. || Music: 8 p.m. || All Ages$20:...</td>\n",
              "      <td></td>\n",
              "      <td>Alternative Rap</td>\n",
              "      <td>Lincoln</td>\n",
              "      <td>Nebraska</td>\n",
              "      <td>Bourbon Theatre</td>\n",
              "      <td>Watsky</td>\n",
              "      <td>['Watsky', 'Feed the Biirds']</td>\n",
              "      <td>2</td>\n",
              "      <td>40.813344</td>\n",
              "      <td>-96.700617</td>\n",
              "      <td>56</td>\n",
              "      <td>2020-04-28</td>\n",
              "      <td>148</td>\n",
              "      <td>31.1270</td>\n",
              "      <td>42.3600</td>\n",
              "    </tr>\n",
              "    <tr>\n",
              "      <th>6</th>\n",
              "      <td>[POSTPONED] Watsky - Placement Album Tour</td>\n",
              "      <td>event</td>\n",
              "      <td>None</td>\n",
              "      <td>ALL AGESSHOW POSTPONED:Unfortunately, WATSKY a...</td>\n",
              "      <td></td>\n",
              "      <td>Urban</td>\n",
              "      <td>Boise</td>\n",
              "      <td>Idaho</td>\n",
              "      <td>Knitting Factory Concert House - Boise</td>\n",
              "      <td>Watsky</td>\n",
              "      <td>['Watsky', 'Hollis']</td>\n",
              "      <td>2</td>\n",
              "      <td>43.613149</td>\n",
              "      <td>-116.207134</td>\n",
              "      <td>56</td>\n",
              "      <td>2020-05-05</td>\n",
              "      <td>155</td>\n",
              "      <td>34.0820</td>\n",
              "      <td>67.8000</td>\n",
              "    </tr>\n",
              "    <tr>\n",
              "      <th>7</th>\n",
              "      <td>Pitbull</td>\n",
              "      <td>event</td>\n",
              "      <td>None</td>\n",
              "      <td></td>\n",
              "      <td></td>\n",
              "      <td>Hip-Hop/Rap</td>\n",
              "      <td>Edinburg</td>\n",
              "      <td>Texas</td>\n",
              "      <td>Bert Ogden Arena</td>\n",
              "      <td>Pitbull</td>\n",
              "      <td>['Pitbull']</td>\n",
              "      <td>1</td>\n",
              "      <td>26.293800</td>\n",
              "      <td>-98.154800</td>\n",
              "      <td>11</td>\n",
              "      <td>2020-05-10</td>\n",
              "      <td>160</td>\n",
              "      <td>35.5503</td>\n",
              "      <td>70.0334</td>\n",
              "    </tr>\n",
              "    <tr>\n",
              "      <th>8</th>\n",
              "      <td>Pitbull</td>\n",
              "      <td>event</td>\n",
              "      <td>None</td>\n",
              "      <td></td>\n",
              "      <td></td>\n",
              "      <td>Hip-Hop/Rap</td>\n",
              "      <td>Vienna</td>\n",
              "      <td>Virginia</td>\n",
              "      <td>Filene Center</td>\n",
              "      <td>Pitbull</td>\n",
              "      <td>['Pitbull']</td>\n",
              "      <td>1</td>\n",
              "      <td>38.906200</td>\n",
              "      <td>-77.294899</td>\n",
              "      <td>54</td>\n",
              "      <td>2020-08-30</td>\n",
              "      <td>270</td>\n",
              "      <td>33.6946</td>\n",
              "      <td>35.0445</td>\n",
              "    </tr>\n",
              "  </tbody>\n",
              "</table>\n",
              "</div>"
            ],
            "text/plain": [
              "                                         name   type  ... priceMin priceMax\n",
              "0                                 Kevin Gates  event  ...  35.8214  70.7020\n",
              "1                        NF - The Search Tour  event  ...  33.4613  77.2671\n",
              "2                        NF - The Search Tour  event  ...  38.0390  66.3690\n",
              "3                        NF - The Search Tour  event  ...  37.2545  76.3297\n",
              "4                        NF - The Search Tour  event  ...  36.9831  54.4925\n",
              "5  POSTPONED :: Watsky - Placement Album Tour  event  ...  31.1270  42.3600\n",
              "6   [POSTPONED] Watsky - Placement Album Tour  event  ...  34.0820  67.8000\n",
              "7                                     Pitbull  event  ...  35.5503  70.0334\n",
              "8                                     Pitbull  event  ...  33.6946  35.0445\n",
              "\n",
              "[9 rows x 19 columns]"
            ]
          },
          "metadata": {
            "tags": []
          },
          "execution_count": 34
        }
      ]
    }
  ]
}